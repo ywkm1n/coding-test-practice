{
 "cells": [
  {
   "cell_type": "code",
   "execution_count": 11,
   "metadata": {},
   "outputs": [],
   "source": [
    "#n번째 피보나치 수열의 항을 구하기"
   ]
  },
  {
   "cell_type": "code",
   "execution_count": 12,
   "metadata": {},
   "outputs": [],
   "source": [
    "#재귀함수 = 같은 값을 중복해서 계산하기 때문에 비효율적\n",
    "#같은 값은 미리 배열에 저장해두고 사용하기"
   ]
  },
  {
   "cell_type": "code",
   "execution_count": 13,
   "metadata": {},
   "outputs": [
    {
     "name": "stdin",
     "output_type": "stream",
     "text": [
      "Enter the value of n(number of the nth Fibonacci Numbers) 8\n"
     ]
    },
    {
     "name": "stdout",
     "output_type": "stream",
     "text": [
      "21\n"
     ]
    }
   ],
   "source": [
    "n = int(input(\"Enter the value of n(number of the nth Fibonacci Numbers)\"))\n",
    "\n",
    "F = [0] * (n+1) #location from 0 to n\n",
    "\n",
    "F[0] = 0 #number of the first Fibonacci Numbers\n",
    "\n",
    "if (n>0):\n",
    "    F[1] = 1\n",
    "    for i in range(2, n+1):\n",
    "        F[i] = F[i-1] + F[i-2]\n",
    "        \n",
    "print(F[n])"
   ]
  },
  {
   "cell_type": "code",
   "execution_count": null,
   "metadata": {},
   "outputs": [],
   "source": []
  }
 ],
 "metadata": {
  "kernelspec": {
   "display_name": "Python 3 (ipykernel)",
   "language": "python",
   "name": "python3"
  },
  "language_info": {
   "codemirror_mode": {
    "name": "ipython",
    "version": 3
   },
   "file_extension": ".py",
   "mimetype": "text/x-python",
   "name": "python",
   "nbconvert_exporter": "python",
   "pygments_lexer": "ipython3",
   "version": "3.11.0"
  }
 },
 "nbformat": 4,
 "nbformat_minor": 4
}
